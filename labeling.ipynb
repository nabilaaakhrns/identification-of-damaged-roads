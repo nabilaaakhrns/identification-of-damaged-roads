{
  "nbformat": 4,
  "nbformat_minor": 0,
  "metadata": {
    "colab": {
      "provenance": []
    },
    "kernelspec": {
      "name": "python3",
      "display_name": "Python 3"
    },
    "language_info": {
      "name": "python"
    }
  },
  "cells": [
    {
      "cell_type": "markdown",
      "source": [
        "#NEW"
      ],
      "metadata": {
        "id": "8h4ym7c0X-uu"
      }
    },
    {
      "cell_type": "code",
      "source": [
        "import os\n",
        "import re\n",
        "from google.colab import drive\n",
        "from google.colab import auth\n",
        "from googleapiclient.discovery import build\n",
        "\n",
        "# Menghubungkan ke Google Drive\n",
        "drive.mount('/content/drive')\n",
        "\n",
        "# Fungsi untuk mengekstrak informasi label dari nama file\n",
        "def extract_label_from_filename(filename):\n",
        "    # Misalnya, jika nama file memiliki format \"label_x_y_width_height.jpg\"\n",
        "    pattern = r\"label_(\\d+)_(\\d+)_(\\d+)_(\\d+)\\.jpg\"\n",
        "    match = re.match(pattern, filename)\n",
        "\n",
        "    if match:\n",
        "        class_label, x, y, width, height = map(int, match.groups())\n",
        "        box_coords = (x, y, x + width, y + height)\n",
        "        return class_label, box_coords\n",
        "    else:\n",
        "        return None\n",
        "\n",
        "# Fungsi untuk membuat label dan menyimpannya dalam file teks\n",
        "def create_label(image_path, label_path, class_label, box_coords):\n",
        "    width, height = 500, 500  # Gantilah sesuai dengan ukuran gambar Anda\n",
        "\n",
        "    # Normalisasi koordinat bounding box\n",
        "    x_min, y_min, x_max, y_max = box_coords\n",
        "    x_center = (x_min + x_max) / (2 * width)\n",
        "    y_center = (y_min + y_max) / (2 * height)\n",
        "    box_width = (x_max - x_min) / width\n",
        "    box_height = (y_max - y_min) / height\n",
        "\n",
        "    # Format label\n",
        "    label = f\"{class_label} {x_center} {y_center} {box_width} {box_height}\"\n",
        "\n",
        "    # Simpan label dalam file teks\n",
        "    with open(label_path, 'w') as label_file:\n",
        "        label_file.write(label)\n",
        "\n",
        "# Fungsi untuk memproses semua gambar dalam folder\n",
        "def process_images_in_folder(folder_path):\n",
        "    # Dapatkan daftar file dalam folder menggunakan Google Drive API\n",
        "    auth.authenticate_user()\n",
        "    drive_service = build('drive', 'v3')\n",
        "\n",
        "    folder_id = '1ScqMbEm3UCwothLgX1iVFxdB1Ni_k0TV'  # Gantilah dengan ID folder Google Drive Anda\n",
        "    results = drive_service.files().list(q=f\"'{folder_id}' in parents\",\n",
        "                                          fields=\"files(id, name)\").execute()\n",
        "    files = results.get('files', [])\n",
        "\n",
        "    # Iterasi melalui daftar file\n",
        "    for file in files:\n",
        "        image_path = os.path.join(folder_path, file['name'])\n",
        "        label_path = os.path.join(folder_path, file['name'].replace(\".jpg\", \".txt\"))\n",
        "\n",
        "        # Ekstrak informasi label dari nama file\n",
        "        label_info = extract_label_from_filename(file['name'])\n",
        "\n",
        "        if label_info:\n",
        "            class_label, box_coords = label_info\n",
        "            create_label(image_path, label_path, class_label, box_coords)\n",
        "\n",
        "# Contoh penggunaan: Gantilah path_folder_gambar sesuai dengan path folder di Google Drive\n",
        "path_folder_gambar = '/content/drive/MyDrive/Skripsheet/Dataset YOLO/Training/Image/Jalan Berlubang'\n",
        "process_images_in_folder(path_folder_gambar)\n"
      ],
      "metadata": {
        "colab": {
          "base_uri": "https://localhost:8080/"
        },
        "id": "XXidDUzJUSqe",
        "outputId": "3074fb48-3aee-4760-8f6d-5220897d7a76"
      },
      "execution_count": null,
      "outputs": [
        {
          "output_type": "stream",
          "name": "stdout",
          "text": [
            "Drive already mounted at /content/drive; to attempt to forcibly remount, call drive.mount(\"/content/drive\", force_remount=True).\n"
          ]
        }
      ]
    },
    {
      "cell_type": "code",
      "source": [
        "import re\n",
        "from google.colab import drive\n",
        "from google.colab import auth\n",
        "from googleapiclient.discovery import build\n",
        "from PIL import Image\n",
        "import os\n",
        "\n",
        "# Menghubungkan ke Google Drive\n",
        "drive.mount('/content/drive')\n",
        "\n",
        "# Fungsi untuk mengekstrak informasi label dari nama file\n",
        "def extract_label_from_filename(filename):\n",
        "    # Misalnya, jika nama file memiliki format \"Berlubang (xxx).jpg\"\n",
        "    pattern = r\"Berlubang \\((\\d+)\\)\\.jpg\"\n",
        "    match = re.match(pattern, filename)\n",
        "\n",
        "    if match:\n",
        "        image_number = int(match.group(1))\n",
        "        class_label = 0  # Sesuaikan dengan kelas yang sesuai\n",
        "        box_coords = get_box_coordinates_from_image_number(image_number)\n",
        "        return class_label, box_coords\n",
        "    else:\n",
        "        return None\n",
        "\n",
        "def get_box_coordinates_from_image_number(image_number):\n",
        "    # Implementasi ini akan bergantung pada bagaimana hubungan antara nomor gambar dan koordinat bounding box\n",
        "    # Sesuaikan dengan kebutuhan dan struktur dataset Anda\n",
        "    # Ini hanya contoh dan perlu disesuaikan\n",
        "    width, height = 300, 300  # Sesuaikan dengan ukuran gambar Anda\n",
        "    x_min = (image_number - 400) * 10  # Contoh perhitungan sederhana\n",
        "    y_min = (image_number - 400) * 10\n",
        "    x_max = x_min + 50\n",
        "    y_max = y_min + 50\n",
        "    return x_min, y_min, x_max, y_max\n",
        "\n",
        "# Fungsi untuk membuat label dan menyimpannya dalam file teks\n",
        "def create_label(image_path, label_path, class_label, box_coords):\n",
        "    # Baca gambar menggunakan PIL\n",
        "    # image = Image.open(image_path)\n",
        "    # width, height = image.size\n",
        "    # Normalisasi koordinat bounding box\n",
        "    x_min, y_min, x_max, y_max = box_coords\n",
        "    x_center = (x_min + x_max)\n",
        "    y_center = (y_min + y_max)\n",
        "    box_width = (x_max - x_min)\n",
        "    box_height = (y_max - y_min)\n",
        "\n",
        "    # x_min, y_min, x_max, y_max = box_coords\n",
        "    # x_center = (x_min + x_max) / (2 * width)\n",
        "    # y_center = (y_min + y_max) / (2 * height)\n",
        "    # box_width = (x_max - x_min) / width\n",
        "    # box_height = (y_max - y_min) / height\n",
        "\n",
        "\n",
        "    # Format label\n",
        "    label = f\"{class_label} {x_center} {y_center} {box_width} {box_height}\"\n",
        "\n",
        "    # Simpan label dalam file teks\n",
        "    with open(label_path, 'w') as label_file:\n",
        "        label_file.write(label)\n",
        "\n",
        "# Fungsi untuk memproses semua gambar dalam folder\n",
        "def process_images_in_folder(folder_path):\n",
        "    # Dapatkan daftar file dalam folder menggunakan Google Drive API\n",
        "    auth.authenticate_user()\n",
        "    drive_service = build('drive', 'v3')\n",
        "\n",
        "    folder_id = '1PjNU8eXbbkeYZdaYRgxH6p66louLxUqh'  # Gantilah dengan ID folder Google Drive Anda\n",
        "    results = drive_service.files().list(q=f\"'{folder_id}' in parents\",\n",
        "                                          fields=\"files(id, name)\").execute()\n",
        "    files = results.get('files', [])\n",
        "\n",
        "    # Iterasi melalui daftar file\n",
        "    for file in files:\n",
        "        image_path = os.path.join(folder_path, file['name'])\n",
        "        label_path = os.path.join(folder_path, file['name'].replace(\".jpg\", \".txt\"))\n",
        "\n",
        "        # Ekstrak informasi label dari nama file\n",
        "        label_info = extract_label_from_filename(file['name'])\n",
        "\n",
        "        if label_info:\n",
        "            class_label, box_coords = label_info\n",
        "            create_label(image_path, label_path, class_label, box_coords)\n",
        "\n",
        "# Contoh penggunaan: Gantilah path_folder_gambar sesuai dengan path folder di Google Drive\n",
        "path_folder_gambar = '/content/drive/MyDrive/Skripsheet/Dataset YOLO/Validation/Image/Jalan Berlubang'\n",
        "process_images_in_folder(path_folder_gambar)\n"
      ],
      "metadata": {
        "colab": {
          "base_uri": "https://localhost:8080/"
        },
        "id": "-F4-bxEHYC6t",
        "outputId": "d47161ae-f409-4499-e4f4-c5d8eebd12c3"
      },
      "execution_count": null,
      "outputs": [
        {
          "output_type": "stream",
          "name": "stdout",
          "text": [
            "Drive already mounted at /content/drive; to attempt to forcibly remount, call drive.mount(\"/content/drive\", force_remount=True).\n"
          ]
        }
      ]
    },
    {
      "cell_type": "markdown",
      "source": [
        "#OLD"
      ],
      "metadata": {
        "id": "DCc9DcQaYDv3"
      }
    },
    {
      "cell_type": "code",
      "source": [
        "from google.colab import drive\n",
        "\n",
        "# Mount Google Drive\n",
        "drive.mount('/content/drive')"
      ],
      "metadata": {
        "colab": {
          "base_uri": "https://localhost:8080/"
        },
        "id": "yV7-YgLh5nnE",
        "outputId": "a5c3003c-0a59-46b9-d094-72bace183858"
      },
      "execution_count": null,
      "outputs": [
        {
          "output_type": "stream",
          "name": "stdout",
          "text": [
            "Mounted at /content/drive\n"
          ]
        }
      ]
    },
    {
      "cell_type": "code",
      "source": [
        "pip install Pillow"
      ],
      "metadata": {
        "colab": {
          "base_uri": "https://localhost:8080/"
        },
        "id": "7lhmGxNMdb9S",
        "outputId": "3dc4bad4-5159-40e8-a525-8db51dc9da56"
      },
      "execution_count": null,
      "outputs": [
        {
          "output_type": "stream",
          "name": "stdout",
          "text": [
            "Requirement already satisfied: Pillow in /usr/local/lib/python3.10/dist-packages (9.4.0)\n"
          ]
        }
      ]
    },
    {
      "cell_type": "code",
      "source": [
        "from PIL import Image\n",
        "import os\n",
        "\n",
        "def create_label(image_path, label_path, class_label, box_coords):\n",
        "    # Baca gambar menggunakan PIL\n",
        "    image = Image.open(image_path)\n",
        "    width, height = image.size\n",
        "\n",
        "    # Normalisasi koordinat bounding box\n",
        "    x_min, y_min, x_max, y_max = box_coords\n",
        "    x_center = (x_min + x_max) / (2 * width)\n",
        "    y_center = (y_min + y_max) / (2 * height)\n",
        "    box_width = (x_max - x_min) / width\n",
        "    box_height = (y_max - y_min) / height\n",
        "\n",
        "    # Format label\n",
        "    label = f\"{class_label} {x_center} {y_center} {box_width} {box_height}\"\n",
        "\n",
        "    # Simpan label dalam file teks\n",
        "    with open(label_path, 'w') as label_file:\n",
        "        label_file.write(label)\n",
        "\n",
        "# Fungsi untuk mengolah seluruh gambar dalam folder\n",
        "def process_images_in_folder(folder_path):\n",
        "    # Loop melalui setiap file di folder\n",
        "    for filename in os.listdir(folder_path):\n",
        "        if filename.endswith(\".jpg\"):  # Pastikan file adalah gambar JPG\n",
        "            image_path = os.path.join(folder_path, filename)\n",
        "            label_path = os.path.join(folder_path, filename.replace(\".jpg\", \".txt\"))\n",
        "\n",
        "            # Ganti nilai ini sesuai kebutuhan Anda\n",
        "            class_label = 0\n",
        "            box_coords = (50, 50, 200, 200)\n",
        "\n",
        "            create_label(image_path, label_path, class_label, box_coords)\n",
        "\n",
        "# Contoh penggunaan: Ganti path_folder_gambar sesuai dengan path folder di Google Drive\n",
        "path_folder_gambar = '/content/drive/MyDrive/Skripsheet/Dataset YOLO/Test/Berlubang'\n",
        "process_images_in_folder(path_folder_gambar)"
      ],
      "metadata": {
        "id": "PUEQcLNJ6zki"
      },
      "execution_count": null,
      "outputs": []
    },
    {
      "cell_type": "code",
      "source": [
        "from PIL import Image\n",
        "import os\n",
        "\n",
        "def create_label(image_path, label_path, class_label, box_coords):\n",
        "    # Baca gambar menggunakan PIL\n",
        "    image = Image.open(image_path)\n",
        "    width, height = image.size\n",
        "\n",
        "    # Normalisasi koordinat bounding box\n",
        "    x_min, y_min, x_max, y_max = box_coords\n",
        "    x_center = (x_min + x_max) / (2 * width)\n",
        "    y_center = (y_min + y_max) / (2 * height)\n",
        "    box_width = (x_max - x_min) / width\n",
        "    box_height = (y_max - y_min) / height\n",
        "\n",
        "    # Format label\n",
        "    label = f\"{class_label} {x_center} {y_center} {box_width} {box_height}\"\n",
        "\n",
        "    # Simpan label dalam file teks\n",
        "    with open(label_path, 'w') as label_file:\n",
        "        label_file.write(label)\n",
        "\n",
        "# Fungsi untuk mengolah seluruh gambar dalam folder\n",
        "def process_images_in_folder(folder_path):\n",
        "    # Loop melalui setiap file di folder\n",
        "    for filename in os.listdir(folder_path):\n",
        "        if filename.endswith(\".jpg\"):  # Pastikan file adalah gambar JPG\n",
        "            image_path = os.path.join(folder_path, filename)\n",
        "            label_path = os.path.join(folder_path, filename.replace(\".jpg\", \".txt\"))\n",
        "\n",
        "            # Ganti nilai ini sesuai kebutuhan Anda\n",
        "            class_label = 1\n",
        "            box_coords = (50, 50, 200, 200)\n",
        "\n",
        "            create_label(image_path, label_path, class_label, box_coords)\n",
        "\n",
        "# Contoh penggunaan: Ganti path_folder_gambar sesuai dengan path folder di Google Drive\n",
        "path_folder_gambar = '/content/drive/MyDrive/Skripsheet/Dataset YOLO/Test/Retak'\n",
        "process_images_in_folder(path_folder_gambar)"
      ],
      "metadata": {
        "id": "kbl4QxGj7A1K"
      },
      "execution_count": null,
      "outputs": []
    },
    {
      "cell_type": "markdown",
      "source": [
        "# TV"
      ],
      "metadata": {
        "id": "XIh3rcUL603g"
      }
    },
    {
      "cell_type": "code",
      "execution_count": null,
      "metadata": {
        "id": "5bsljuaWS-qU"
      },
      "outputs": [],
      "source": [
        "from PIL import Image\n",
        "import os\n",
        "\n",
        "def create_label(image_path, label_path, class_label, box_coords):\n",
        "    # Baca gambar menggunakan PIL\n",
        "    image = Image.open(image_path)\n",
        "    width, height = image.size\n",
        "\n",
        "    # Normalisasi koordinat bounding box\n",
        "    x_min, y_min, x_max, y_max = box_coords\n",
        "    x_center = (x_min + x_max) / (2 * width)\n",
        "    y_center = (y_min + y_max) / (2 * height)\n",
        "    box_width = (x_max - x_min) / width\n",
        "    box_height = (y_max - y_min) / height\n",
        "\n",
        "    # Format label\n",
        "    label = f\"{class_label} {x_center} {y_center} {box_width} {box_height}\"\n",
        "\n",
        "    # Simpan label dalam file teks\n",
        "    with open(label_path, 'w') as label_file:\n",
        "        label_file.write(label)\n",
        "\n",
        "# Fungsi untuk mengolah seluruh gambar dalam folder\n",
        "def process_images_in_folder(folder_path):\n",
        "    # Loop melalui setiap file di folder\n",
        "    for filename in os.listdir(folder_path):\n",
        "        if filename.endswith(\".jpg\"):  # Pastikan file adalah gambar JPG\n",
        "            image_path = os.path.join(folder_path, filename)\n",
        "            label_path = os.path.join(folder_path, filename.replace(\".jpg\", \".txt\"))\n",
        "\n",
        "            # Ganti nilai ini sesuai kebutuhan Anda\n",
        "            class_label = 0\n",
        "            box_coords = (50, 50, 200, 200)\n",
        "\n",
        "            create_label(image_path, label_path, class_label, box_coords)\n",
        "\n",
        "# Contoh penggunaan: Ganti path_folder_gambar sesuai dengan path folder di Google Drive\n",
        "path_folder_gambar = '/content/drive/MyDrive/Skripsheet/Dataset YOLO/Training/Image/Jalan Berlubang'\n",
        "process_images_in_folder(path_folder_gambar)"
      ]
    },
    {
      "cell_type": "code",
      "source": [
        "from PIL import Image\n",
        "import os\n",
        "\n",
        "def create_label(image_path, label_path, class_label, box_coords):\n",
        "    # Baca gambar menggunakan PIL\n",
        "    image = Image.open(image_path)\n",
        "    width, height = image.size\n",
        "\n",
        "    # Normalisasi koordinat bounding box\n",
        "    x_min, y_min, x_max, y_max = box_coords\n",
        "    x_center = (x_min + x_max) / (2 * width)\n",
        "    y_center = (y_min + y_max) / (2 * height)\n",
        "    box_width = (x_max - x_min) / width\n",
        "    box_height = (y_max - y_min) / height\n",
        "\n",
        "    # Format label\n",
        "    label = f\"{class_label} {x_center} {y_center} {box_width} {box_height}\"\n",
        "\n",
        "    # Simpan label dalam file teks\n",
        "    with open(label_path, 'w') as label_file:\n",
        "        label_file.write(label)\n",
        "\n",
        "# Fungsi untuk mengolah seluruh gambar dalam folder\n",
        "def process_images_in_folder(folder_path):\n",
        "    # Loop melalui setiap file di folder\n",
        "    for filename in os.listdir(folder_path):\n",
        "        if filename.endswith(\".jpg\"):  # Pastikan file adalah gambar JPG\n",
        "            image_path = os.path.join(folder_path, filename)\n",
        "            label_path = os.path.join(folder_path, filename.replace(\".jpg\", \".txt\"))\n",
        "\n",
        "            # Ganti nilai ini sesuai kebutuhan Anda\n",
        "            class_label = 0\n",
        "            box_coords = (50, 50, 200, 200)\n",
        "\n",
        "            create_label(image_path, label_path, class_label, box_coords)\n",
        "\n",
        "# Contoh penggunaan: Ganti path_folder_gambar sesuai dengan path folder di Google Drive\n",
        "path_folder_gambar = '/content/drive/MyDrive/Skripsheet/Dataset YOLO/Validation/Image/Jalan Berlubang'\n",
        "process_images_in_folder(path_folder_gambar)"
      ],
      "metadata": {
        "id": "hK-Mbw6-eHNx"
      },
      "execution_count": null,
      "outputs": []
    },
    {
      "cell_type": "code",
      "source": [
        "from PIL import Image\n",
        "import os\n",
        "\n",
        "def create_label(image_path, label_path, class_label, box_coords):\n",
        "    # Baca gambar menggunakan PIL\n",
        "    image = Image.open(image_path)\n",
        "    width, height = image.size\n",
        "\n",
        "    # Normalisasi koordinat bounding box\n",
        "    x_min, y_min, x_max, y_max = box_coords\n",
        "    x_center = (x_min + x_max) / (2 * width)\n",
        "    y_center = (y_min + y_max) / (2 * height)\n",
        "    box_width = (x_max - x_min) / width\n",
        "    box_height = (y_max - y_min) / height\n",
        "\n",
        "    # Format label\n",
        "    label = f\"{class_label} {x_center} {y_center} {box_width} {box_height}\"\n",
        "\n",
        "    # Simpan label dalam file teks\n",
        "    with open(label_path, 'w') as label_file:\n",
        "        label_file.write(label)\n",
        "\n",
        "# Fungsi untuk mengolah seluruh gambar dalam folder\n",
        "def process_images_in_folder(folder_path):\n",
        "    # Loop melalui setiap file di folder\n",
        "    for filename in os.listdir(folder_path):\n",
        "        if filename.endswith(\".jpg\"):  # Pastikan file adalah gambar JPG\n",
        "            image_path = os.path.join(folder_path, filename)\n",
        "            label_path = os.path.join(folder_path, filename.replace(\".jpg\", \".txt\"))\n",
        "\n",
        "            # Ganti nilai ini sesuai kebutuhan Anda\n",
        "            class_label = 1\n",
        "            box_coords = (50, 50, 200, 200)\n",
        "\n",
        "            create_label(image_path, label_path, class_label, box_coords)\n",
        "\n",
        "# Contoh penggunaan: Ganti path_folder_gambar sesuai dengan path folder di Google Drive\n",
        "path_folder_gambar = '/content/drive/MyDrive/Skripsheet/Dataset YOLO/Training/Image/Jalan Retak'\n",
        "process_images_in_folder(path_folder_gambar)"
      ],
      "metadata": {
        "id": "QujFuYSueLT8"
      },
      "execution_count": null,
      "outputs": []
    },
    {
      "cell_type": "code",
      "source": [
        "from PIL import Image\n",
        "import os\n",
        "\n",
        "def create_label(image_path, label_path, class_label, box_coords):\n",
        "    # Baca gambar menggunakan PIL\n",
        "    image = Image.open(image_path)\n",
        "    width, height = image.size\n",
        "\n",
        "    # Normalisasi koordinat bounding box\n",
        "    x_min, y_min, x_max, y_max = box_coords\n",
        "    x_center = (x_min + x_max) / (2 * width)\n",
        "    y_center = (y_min + y_max) / (2 * height)\n",
        "    box_width = (x_max - x_min) / width\n",
        "    box_height = (y_max - y_min) / height\n",
        "\n",
        "    # Format label\n",
        "    label = f\"{class_label} {x_center} {y_center} {box_width} {box_height}\"\n",
        "\n",
        "    # Simpan label dalam file teks\n",
        "    with open(label_path, 'w') as label_file:\n",
        "        label_file.write(label)\n",
        "\n",
        "# Fungsi untuk mengolah seluruh gambar dalam folder\n",
        "def process_images_in_folder(folder_path):\n",
        "    # Loop melalui setiap file di folder\n",
        "    for filename in os.listdir(folder_path):\n",
        "        if filename.endswith(\".jpg\"):  # Pastikan file adalah gambar JPG\n",
        "            image_path = os.path.join(folder_path, filename)\n",
        "            label_path = os.path.join(folder_path, filename.replace(\".jpg\", \".txt\"))\n",
        "\n",
        "            # Ganti nilai ini sesuai kebutuhan Anda\n",
        "            class_label = 1\n",
        "            box_coords = (50, 50, 200, 200)\n",
        "\n",
        "            create_label(image_path, label_path, class_label, box_coords)\n",
        "\n",
        "# Contoh penggunaan: Ganti path_folder_gambar sesuai dengan path folder di Google Drive\n",
        "path_folder_gambar = '/content/drive/MyDrive/Skripsheet/Dataset YOLO/Validation/Image/Jalan Retak'\n",
        "process_images_in_folder(path_folder_gambar)"
      ],
      "metadata": {
        "id": "5p0w7ZvDeQTT"
      },
      "execution_count": null,
      "outputs": []
    },
    {
      "cell_type": "code",
      "source": [],
      "metadata": {
        "id": "QT8vRIDweYmg"
      },
      "execution_count": null,
      "outputs": []
    }
  ]
}